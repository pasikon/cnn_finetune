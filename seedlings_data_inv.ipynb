{
 "cells": [
  {
   "cell_type": "code",
   "execution_count": 16,
   "metadata": {
    "collapsed": true
   },
   "outputs": [],
   "source": [
    "import cv2\n",
    "\n",
    "import numpy as np\n",
    "import pandas as pd\n",
    "import matplotlib.pyplot as plt\n",
    "from matplotlib.pyplot import imshow\n",
    "import seaborn as sns\n",
    "from subprocess import check_output\n",
    "\n",
    "from PIL import Image\n",
    "%matplotlib inline"
   ]
  },
  {
   "cell_type": "code",
   "execution_count": 2,
   "metadata": {},
   "outputs": [
    {
     "data": {
      "text/plain": [
       "['Black-grass',\n 'Charlock',\n 'Cleavers',\n 'Common Chickweed',\n 'Common wheat',\n 'Fat Hen',\n 'Loose Silky-bent',\n 'Maize',\n 'Scentless Mayweed',\n 'Shepherds Purse',\n 'Small-flowered Cranesbill',\n 'Sugar beet']"
      ]
     },
     "execution_count": 2,
     "metadata": {},
     "output_type": "execute_result"
    }
   ],
   "source": [
    "classes = check_output([\"ls\", \"seedlings_data/train\"]).decode(\"utf8\").strip().split(\"\\n\")\n",
    "classes"
   ]
  },
  {
   "cell_type": "code",
   "execution_count": 3,
   "metadata": {},
   "outputs": [],
   "source": [
    "dir_list = []\n",
    "for c in classes:\n",
    "    files = check_output([\"ls\", \"seedlings_data/train/%s\" % c]).decode(\"utf8\").strip().split(\"\\n\")\n",
    "    dir_list.append(files)\n",
    "    files = check_output([\"ls\", \"-l\", \"seedlings_data/train/%s\" % c]).decode(\"utf8\").strip().split(\"\\n\")"
   ]
  },
  {
   "cell_type": "code",
   "execution_count": 4,
   "metadata": {},
   "outputs": [],
   "source": [
    "df = pd.DataFrame({\"n_images\": [len(x) for x in dir_list]}, index=classes)"
   ]
  },
  {
   "cell_type": "code",
   "execution_count": 5,
   "metadata": {},
   "outputs": [
    {
     "data": {
      "text/plain": [
       "<matplotlib.axes._subplots.AxesSubplot at 0x270c4f8dcf8>"
      ]
     },
     "execution_count": 5,
     "metadata": {},
     "output_type": "execute_result"
    },
    {
     "data": {
      "image/png": "[encoded data removed]",
      "text/plain": [
       "<matplotlib.figure.Figure at 0x270be4c6978>"
      ]
     },
     "metadata": {},
     "output_type": "display_data"
    }
   ],
   "source": [
    "df.plot(kind=\"bar\", figsize=(15, 10))"
   ]
  },
  {
   "cell_type": "code",
   "execution_count": 6,
   "metadata": {},
   "outputs": [],
   "source": [
    "images = []\n",
    "pathes = []\n",
    "im_class = []\n",
    "im_height = []\n",
    "im_width = []\n",
    "for c, files in zip(classes, dir_list):\n",
    "    for img in files:\n",
    "        img_path = \"seedlings_data/train/%s/%s\" % (c, img)\n",
    "        pathes.append(img_path)\n",
    "        im = Image.open(img_path)\n",
    "        images.append(img)\n",
    "        im_class.append(c)\n",
    "        im_height.append(im.height)\n",
    "        im_width.append(im.width)\n",
    "\n",
    "df_all = pd.DataFrame({\"class\": im_class, \"height\": im_height, \"width\": im_width}, index=images)\n",
    "\n",
    "df_by_class = pd.DataFrame({\"file\": images, \"class\": im_class, \"height\": im_height, \"width\": im_width, \"path\": pathes}, \n",
    "                           index=pathes)\n"
   ]
  },
  {
   "cell_type": "code",
   "execution_count": 7,
   "metadata": {
    "collapsed": false
   },
   "outputs": [
    {
     "data": {
      "text/html": [
       "<div>\n",
       "<style scoped>\n",
       "    .dataframe tbody tr th:only-of-type {\n",
       "        vertical-align: middle;\n",
       "    }\n",
       "\n",
       "    .dataframe tbody tr th {\n",
       "        vertical-align: top;\n",
       "    }\n",
       "\n",
       "    .dataframe thead th {\n",
       "        text-align: right;\n",
       "    }\n",
       "</style>\n",
       "<table border=\"1\" class=\"dataframe\">\n",
       "  <thead>\n",
       "    <tr style=\"text-align: right;\">\n",
       "      <th></th>\n",
       "      <th>class</th>\n",
       "      <th>file</th>\n",
       "      <th>height</th>\n",
       "      <th>path</th>\n",
       "      <th>width</th>\n",
       "    </tr>\n",
       "  </thead>\n",
       "  <tbody>\n",
       "    <tr>\n",
       "      <th>seedlings_data/train/Black-grass/0050f38b3.png</th>\n",
       "      <td>Black-grass</td>\n",
       "      <td>0050f38b3.png</td>\n",
       "      <td>196</td>\n",
       "      <td>seedlings_data/train/Black-grass/0050f38b3.png</td>\n",
       "      <td>196</td>\n",
       "    </tr>\n",
       "    <tr>\n",
       "      <th>seedlings_data/train/Black-grass/0183fdf68.png</th>\n",
       "      <td>Black-grass</td>\n",
       "      <td>0183fdf68.png</td>\n",
       "      <td>388</td>\n",
       "      <td>seedlings_data/train/Black-grass/0183fdf68.png</td>\n",
       "      <td>388</td>\n",
       "    </tr>\n",
       "    <tr>\n",
       "      <th>seedlings_data/train/Black-grass/0260cffa8.png</th>\n",
       "      <td>Black-grass</td>\n",
       "      <td>0260cffa8.png</td>\n",
       "      <td>886</td>\n",
       "      <td>seedlings_data/train/Black-grass/0260cffa8.png</td>\n",
       "      <td>886</td>\n",
       "    </tr>\n",
       "    <tr>\n",
       "      <th>seedlings_data/train/Black-grass/05eedce4d.png</th>\n",
       "      <td>Black-grass</td>\n",
       "      <td>05eedce4d.png</td>\n",
       "      <td>117</td>\n",
       "      <td>seedlings_data/train/Black-grass/05eedce4d.png</td>\n",
       "      <td>117</td>\n",
       "    </tr>\n",
       "    <tr>\n",
       "      <th>seedlings_data/train/Black-grass/075d004bc.png</th>\n",
       "      <td>Black-grass</td>\n",
       "      <td>075d004bc.png</td>\n",
       "      <td>471</td>\n",
       "      <td>seedlings_data/train/Black-grass/075d004bc.png</td>\n",
       "      <td>471</td>\n",
       "    </tr>\n",
       "  </tbody>\n",
       "</table>\n",
       "</div>"
      ],
      "text/plain": [
       "<div>\n",
       "<style scoped>\n",
       "    .dataframe tbody tr th:only-of-type {\n",
       "        vertical-align: middle;\n",
       "    }\n",
       "\n",
       "    .dataframe tbody tr th {\n",
       "        vertical-align: top;\n",
       "    }\n",
       "\n",
       "    .dataframe thead th {\n",
       "        text-align: right;\n",
       "    }\n",
       "</style>\n",
       "<table border=\"1\" class=\"dataframe\">\n",
       "  <thead>\n",
       "    <tr style=\"text-align: right;\">\n",
       "      <th></th>\n",
       "      <th>class</th>\n",
       "      <th>file</th>\n",
       "      <th>height</th>\n",
       "      <th>path</th>\n",
       "      <th>width</th>\n",
       "    </tr>\n",
       "  </thead>\n",
       "  <tbody>\n",
       "    <tr>\n",
       "      <th>seedlings_data/train/Black-grass/0050f38b3.png</th>\n",
       "      <td>Black-grass</td>\n",
       "      <td>0050f38b3.png</td>\n",
       "      <td>196</td>\n",
       "      <td>seedlings_data/train/Black-grass/0050f38b3.png</td>\n",
       "      <td>196</td>\n",
       "    </tr>\n",
       "    <tr>\n",
       "      <th>seedlings_data/train/Black-grass/0183fdf68.png</th>\n",
       "      <td>Black-grass</td>\n",
       "      <td>0183fdf68.png</td>\n",
       "      <td>388</td>\n",
       "      <td>seedlings_data/train/Black-grass/0183fdf68.png</td>\n",
       "      <td>388</td>\n",
       "    </tr>\n",
       "    <tr>\n",
       "      <th>seedlings_data/train/Black-grass/0260cffa8.png</th>\n",
       "      <td>Black-grass</td>\n",
       "      <td>0260cffa8.png</td>\n",
       "      <td>886</td>\n",
       "      <td>seedlings_data/train/Black-grass/0260cffa8.png</td>\n",
       "      <td>886</td>\n",
       "    </tr>\n",
       "    <tr>\n",
       "      <th>seedlings_data/train/Black-grass/05eedce4d.png</th>\n",
       "      <td>Black-grass</td>\n",
       "      <td>05eedce4d.png</td>\n",
       "      <td>117</td>\n",
       "      <td>seedlings_data/train/Black-grass/05eedce4d.png</td>\n",
       "      <td>117</td>\n",
       "    </tr>\n",
       "    <tr>\n",
       "      <th>seedlings_data/train/Black-grass/075d004bc.png</th>\n",
       "      <td>Black-grass</td>\n",
       "      <td>075d004bc.png</td>\n",
       "      <td>471</td>\n",
       "      <td>seedlings_data/train/Black-grass/075d004bc.png</td>\n",
       "      <td>471</td>\n",
       "    </tr>\n",
       "  </tbody>\n",
       "</table>\n",
       "</div>"
      ]
     },
     "execution_count": 7,
     "metadata": {},
     "output_type": "execute_result"
    }
   ],
   "source": [
    "df_by_class.head()"
   ]
  },
  {
   "cell_type": "code",
   "execution_count": 20,
   "metadata": {},
   "outputs": [
    {
     "name": "stdout",
     "output_type": "stream",
     "text": [
      "(4750, 5)\n(4750, 12)\ny_loaded shape= (4750, 12)\n[0 0 0 0 0 0 0 0 0 0 1 0]\n"
     ]
    },
    {
     "ename": "ValueError",
     "evalue": "The truth value of an array with more than one element is ambiguous. Use a.any() or a.all()",
     "traceback": [
      "\u001b[1;31m---------------------------------------------------------------------------\u001b[0m",
      "\u001b[1;31mValueError\u001b[0m                                Traceback (most recent call last)",
      "\u001b[1;32m<ipython-input-20-feba20eda323>\u001b[0m in \u001b[0;36m<module>\u001b[1;34m()\u001b[0m\n\u001b[0;32m     18\u001b[0m \u001b[0mimages_resized\u001b[0m \u001b[1;33m=\u001b[0m \u001b[0mnp\u001b[0m\u001b[1;33m.\u001b[0m\u001b[0marray\u001b[0m\u001b[1;33m(\u001b[0m\u001b[0mimages_resized\u001b[0m\u001b[1;33m)\u001b[0m\u001b[1;33m\u001b[0m\u001b[0m\n\u001b[0;32m     19\u001b[0m \u001b[1;33m\u001b[0m\u001b[0m\n\u001b[1;32m---> 20\u001b[1;33m \u001b[0mplt\u001b[0m\u001b[1;33m.\u001b[0m\u001b[0mshow\u001b[0m\u001b[1;33m(\u001b[0m\u001b[0mimages_resized\u001b[0m\u001b[1;33m[\u001b[0m\u001b[1;36m45\u001b[0m\u001b[1;33m]\u001b[0m\u001b[1;33m)\u001b[0m\u001b[1;33m\u001b[0m\u001b[0m\n\u001b[0m\u001b[0;32m     21\u001b[0m \u001b[1;31m# print(one_hot_by_class.index)\u001b[0m\u001b[1;33m\u001b[0m\u001b[1;33m\u001b[0m\u001b[0m\n\u001b[0;32m     22\u001b[0m \u001b[1;31m# print(one_hot_by_class.loc['seedlings_data/train/Black-grass/0050f38b3.png'])\u001b[0m\u001b[1;33m\u001b[0m\u001b[1;33m\u001b[0m\u001b[0m\n",
      "\u001b[1;32m~\\Anaconda3\\envs\\tensorf\\lib\\site-packages\\matplotlib\\pyplot.py\u001b[0m in \u001b[0;36mshow\u001b[1;34m(*args, **kw)\u001b[0m\n\u001b[0;32m    249\u001b[0m     \"\"\"\n\u001b[0;32m    250\u001b[0m     \u001b[1;32mglobal\u001b[0m \u001b[0m_show\u001b[0m\u001b[1;33m\u001b[0m\u001b[0m\n\u001b[1;32m--> 251\u001b[1;33m     \u001b[1;32mreturn\u001b[0m \u001b[0m_show\u001b[0m\u001b[1;33m(\u001b[0m\u001b[1;33m*\u001b[0m\u001b[0margs\u001b[0m\u001b[1;33m,\u001b[0m \u001b[1;33m**\u001b[0m\u001b[0mkw\u001b[0m\u001b[1;33m)\u001b[0m\u001b[1;33m\u001b[0m\u001b[0m\n\u001b[0m\u001b[0;32m    252\u001b[0m \u001b[1;33m\u001b[0m\u001b[0m\n\u001b[0;32m    253\u001b[0m \u001b[1;33m\u001b[0m\u001b[0m\n",
      "\u001b[1;32m~\\Anaconda3\\envs\\tensorf\\lib\\site-packages\\ipykernel\\pylab\\backend_inline.py\u001b[0m in \u001b[0;36mshow\u001b[1;34m(close, block)\u001b[0m\n\u001b[0;32m     39\u001b[0m         \u001b[1;31m# only call close('all') if any to close\u001b[0m\u001b[1;33m\u001b[0m\u001b[1;33m\u001b[0m\u001b[0m\n\u001b[0;32m     40\u001b[0m         \u001b[1;31m# close triggers gc.collect, which can be slow\u001b[0m\u001b[1;33m\u001b[0m\u001b[1;33m\u001b[0m\u001b[0m\n\u001b[1;32m---> 41\u001b[1;33m         \u001b[1;32mif\u001b[0m \u001b[0mclose\u001b[0m \u001b[1;32mand\u001b[0m \u001b[0mGcf\u001b[0m\u001b[1;33m.\u001b[0m\u001b[0mget_all_fig_managers\u001b[0m\u001b[1;33m(\u001b[0m\u001b[1;33m)\u001b[0m\u001b[1;33m:\u001b[0m\u001b[1;33m\u001b[0m\u001b[0m\n\u001b[0m\u001b[0;32m     42\u001b[0m             \u001b[0mmatplotlib\u001b[0m\u001b[1;33m.\u001b[0m\u001b[0mpyplot\u001b[0m\u001b[1;33m.\u001b[0m\u001b[0mclose\u001b[0m\u001b[1;33m(\u001b[0m\u001b[1;34m'all'\u001b[0m\u001b[1;33m)\u001b[0m\u001b[1;33m\u001b[0m\u001b[0m\n\u001b[0;32m     43\u001b[0m \u001b[1;33m\u001b[0m\u001b[0m\n",
      "\u001b[1;31mValueError\u001b[0m: The truth value of an array with more than one element is ambiguous. Use a.any() or a.all()"
     ],
     "output_type": "error"
    }
   ],
   "source": [
    "print(df_by_class.shape)\n",
    "one_hot_by_class = pd.get_dummies(df_by_class['class'])\n",
    "print(one_hot_by_class.shape)\n",
    "\n",
    "# (4750,12)\n",
    "y_loaded = one_hot_by_class.as_matrix()\n",
    "print('y_loaded shape= ' + str(y_loaded.shape))\n",
    "print(y_loaded[4000])\n",
    "\n",
    "images_resized = []\n",
    "\n",
    "for im_path in one_hot_by_class.index:\n",
    "    imageCV = cv2.imread(im_path)\n",
    "    images_resized.append(cv2.resize(imageCV, (300, 300), interpolation=cv2.INTER_AREA))\n",
    "    \n",
    "    \n",
    "# (4750, 300, 300, 3)\n",
    "images_resized = np.array(images_resized)\n",
    "\n",
    "# print(one_hot_by_class.index)\n",
    "# print(one_hot_by_class.loc['seedlings_data/train/Black-grass/0050f38b3.png'])\n",
    "\n",
    "# one_hot_by_class.head()\n"
   ]
  },
  {
   "cell_type": "code",
   "execution_count": 33,
   "metadata": {},
   "outputs": [
    {
     "name": "stdout",
     "output_type": "stream",
     "text": [
      "Resized images shape: (4750, 300, 300, 3)\nOne hot for training set: (4750, 12)\n"
     ]
    },
    {
     "data": {
      "text/plain": [
       "<matplotlib.image.AxesImage at 0x2708fe5cd30>"
      ]
     },
     "execution_count": 33,
     "metadata": {},
     "output_type": "execute_result"
    }
   ],
   "source": [
    "print('Resized images shape: ' + str(images_resized.shape))\n",
    "print('One hot for training set: ' + str(y_loaded.shape))\n",
    "imshow(images_resized[5])"
   ]
  },
  {
   "cell_type": "code",
   "execution_count": 36,
   "metadata": {},
   "outputs": [],
   "source": [
    "\n",
    "# save nd arrays to files\n",
    "np.save('seedlings_data/numpy_imgs_resized_train', images_resized)\n",
    "np.save('seedlings_data/numpy_imgs_train_onehot', y_loaded)"
   ]
  },
  {
   "cell_type": "code",
   "execution_count": 45,
   "metadata": {},
   "outputs": [
    {
     "name": "stdout",
     "output_type": "stream",
     "text": [
      "(4750, 12)\n(4750, 300, 300, 3)\n"
     ]
    },
    {
     "data": {
      "text/plain": [
       "<matplotlib.image.AxesImage at 0x27095235668>"
      ]
     },
     "execution_count": 45,
     "metadata": {},
     "output_type": "execute_result"
    }
   ],
   "source": [
    "y_loaded = np.load('seedlings_data/numpy_imgs_train_onehot.npy')\n",
    "images_resized = np.load('seedlings_data/numpy_imgs_resized_train.npy')\n",
    "print(y_loaded.shape)\n",
    "print(images_resized.shape)\n",
    "imshow(images_resized[639])"
   ]
  },
  {
   "cell_type": "code",
   "execution_count": 10,
   "metadata": {},
   "outputs": [
    {
     "name": "stdout",
     "output_type": "stream",
     "text": [
      "0.999711367223 0.00808035953227\n"
     ]
    }
   ],
   "source": [
    "a_ratio = df_all.height.astype(\"float\") / df_all.width.astype(\"float\")\n",
    "print(a_ratio.mean(), a_ratio.std())"
   ]
  },
  {
   "cell_type": "code",
   "execution_count": 11,
   "metadata": {},
   "outputs": [
    {
     "data": {
      "text/plain": [
       "<matplotlib.axes._subplots.AxesSubplot at 0x2932161be10>"
      ]
     },
     "execution_count": 11,
     "metadata": {},
     "output_type": "execute_result"
    },
    {
     "data": {
      "image/png": "[encoded data removed]",
      "text/plain": [
       "<matplotlib.figure.Figure at 0x2932137c160>"
      ]
     },
     "metadata": {},
     "output_type": "display_data"
    }
   ],
   "source": [
    "df_all[\"a_ratio\"] = a_ratio\n",
    "\n",
    "sns.distplot(df_all.height)\n",
    "\n"
   ]
  },
  {
   "cell_type": "code",
   "execution_count": 12,
   "metadata": {},
   "outputs": [
    {
     "data": {
      "text/plain": [
       "<matplotlib.axes._subplots.AxesSubplot at 0x293216dd550>"
      ]
     },
     "execution_count": 12,
     "metadata": {},
     "output_type": "execute_result"
    },
    {
     "data": {
      "image/png": "[encoded data removed]",
      "text/plain": [
       "<matplotlib.figure.Figure at 0x2932137c978>"
      ]
     },
     "metadata": {},
     "output_type": "display_data"
    }
   ],
   "source": [
    "sns.distplot(df_all.a_ratio)"
   ]
  },
  {
   "cell_type": "code",
   "execution_count": null,
   "metadata": {},
   "outputs": [],
   "source": []
  }
 ],
 "metadata": {
  "kernelspec": {
   "display_name": "Python 2",
   "language": "python",
   "name": "python2"
  },
  "language_info": {
   "codemirror_mode": {
    "name": "ipython",
    "version": 2
   },
   "file_extension": ".py",
   "mimetype": "text/x-python",
   "name": "python",
   "nbconvert_exporter": "python",
   "pygments_lexer": "ipython2",
   "version": "2.7.6"
  }
 },
 "nbformat": 4,
 "nbformat_minor": 0
}
