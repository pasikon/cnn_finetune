{
 "cells": [
  {
   "cell_type": "code",
   "execution_count": 1,
   "metadata": {},
   "outputs": [],
   "source": [
    "import cv2\n",
    "\n",
    "import numpy as np\n",
    "import pandas as pd\n",
    "import matplotlib.pyplot as plt\n",
    "from matplotlib.pyplot import imshow\n",
    "import seaborn as sns\n",
    "from subprocess import check_output\n",
    "\n",
    "from PIL import Image\n",
    "%matplotlib inline"
   ]
  },
  {
   "cell_type": "code",
   "execution_count": 11,
   "metadata": {},
   "outputs": [],
   "source": [
    "def load_train_data_dir(data_root_dir, train_dir):\n",
    "    data_root = data_root_dir\n",
    "\n",
    "    train = train_dir\n",
    "\n",
    "    classes = check_output([\"ls\", (\"%s/%s\" % (data_root, train))]).decode(\"utf8\").strip().split(\"\\n\")\n",
    "    dir_list = []\n",
    "\n",
    "    for c in classes:\n",
    "        files = check_output([\"ls\", \"%s/%s/%s\" % (data_root, train, c)]).decode(\"utf8\").strip().split(\"\\n\")\n",
    "        dir_list.append(files)\n",
    "        files = check_output([\"ls\", \"-l\", \"%s/%s/%s\" % (data_root, train, c)]).decode(\"utf8\").strip().split(\"\\n\")\n",
    "\n",
    "    images = []\n",
    "    pathes = []\n",
    "    im_class = []\n",
    "    im_height = []\n",
    "    im_width = []\n",
    "    for c, files in zip(classes, dir_list):\n",
    "        for img in files:\n",
    "            img_path = \"%s/%s/%s/%s\" % (data_root, train, c, img)\n",
    "            pathes.append(img_path)\n",
    "            im = Image.open(img_path)\n",
    "            images.append(img)\n",
    "            im_class.append(c)\n",
    "            im_height.append(im.height)\n",
    "            im_width.append(im.width)\n",
    "\n",
    "    df_all = pd.DataFrame({\"class\": im_class, \"height\": im_height, \"width\": im_width}, index=images)\n",
    "\n",
    "    df_by_class = pd.DataFrame({\"file\": images, \"class\": im_class, \"height\": im_height, \"width\": im_width, \"path\": pathes}, \n",
    "                               index=pathes)\n",
    "\n",
    "    df_by_class\n",
    "\n",
    "    one_hot_by_class = pd.get_dummies(df_by_class['class'])\n",
    "\n",
    "    print('y_loaded: ' + str(one_hot_by_class.shape))\n",
    "\n",
    "    # (4750,12)\n",
    "    y_loaded = one_hot_by_class.as_matrix()\n",
    "\n",
    "    imagez = []\n",
    "\n",
    "    for im_path in one_hot_by_class.index:\n",
    "        imageCV = cv2.imread(im_path)\n",
    "        imagez.append(cv2.resize(imageCV, (300, 300), interpolation=cv2.INTER_AREA))\n",
    "\n",
    "\n",
    "    # (4750, 300, 300, 3)\n",
    "    imagez = np.array(imagez)\n",
    "    print('x_loaded: ' + str(imagez.shape))\n",
    "    \n",
    "    return imagez, y_loaded\n"
   ]
  },
  {
   "cell_type": "code",
   "execution_count": 13,
   "metadata": {},
   "outputs": [
    {
     "name": "stdout",
     "output_type": "stream",
     "text": [
      "y_loaded: (4750, 12)\n",
      "x_loaded: (4750, 300, 300, 3)\n",
      "(4750, 300, 300, 3)\n",
      "(4750, 12)\n"
     ]
    }
   ],
   "source": [
    "x_loaded, y_loaded = load_train_data_dir(data_root_dir=\"seedlings_data\", train_dir=\"train_segmented\")\n",
    "print(x_loaded.shape)\n",
    "print(y_loaded.shape)"
   ]
  },
  {
   "cell_type": "code",
   "execution_count": null,
   "metadata": {},
   "outputs": [],
   "source": []
  }
 ],
 "metadata": {
  "kernelspec": {
   "display_name": "Python 3",
   "language": "python",
   "name": "python3"
  },
  "language_info": {
   "codemirror_mode": {
    "name": "ipython",
    "version": 3
   },
   "file_extension": ".py",
   "mimetype": "text/x-python",
   "name": "python",
   "nbconvert_exporter": "python",
   "pygments_lexer": "ipython3",
   "version": "3.6.1"
  }
 },
 "nbformat": 4,
 "nbformat_minor": 1
}
