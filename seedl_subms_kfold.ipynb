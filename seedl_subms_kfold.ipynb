{
 "cells": [
  {
   "cell_type": "code",
   "execution_count": 2,
   "metadata": {
    "collapsed": true
   },
   "outputs": [
    {
     "name": "stderr",
     "output_type": "stream",
     "text": [
      "Using TensorFlow backend.\n"
     ]
    }
   ],
   "source": [
    "import numpy as np\n",
    "import cv2\n",
    "from subprocess import check_output\n",
    "from sklearn.model_selection import KFold\n",
    "from sklearn import metrics\n",
    "from keras.models import Model\n",
    "from keras.optimizers import Adam\n",
    "from keras.applications.inception_v3 import InceptionV3\n",
    "from keras.layers import Dense, Input, Flatten, Dropout, GlobalAveragePooling2D\n",
    "from keras.layers.normalization import BatchNormalization\n",
    "from keras.callbacks import ModelCheckpoint, EarlyStopping, ReduceLROnPlateau\n",
    "from keras.preprocessing.image import ImageDataGenerator"
   ]
  },
  {
   "cell_type": "code",
   "execution_count": 3,
   "metadata": {},
   "outputs": [],
   "source": [
    "def get_test_set_files_paths_arr_classes():\n",
    "    fpa = []\n",
    "    fpa.append(check_output([\"ls\", \"seedlings_data/test/\"]).decode(\"utf8\").strip().split(\"\\n\"))\n",
    "    filez = np.array(fpa)\n",
    "    classes = np.array(check_output([\"ls\", \"seedlings_data/train\"]).decode(\"utf8\").strip().split(\"\\n\"))\n",
    "    return filez, classes"
   ]
  },
  {
   "cell_type": "code",
   "execution_count": 4,
   "metadata": {},
   "outputs": [],
   "source": [
    "def get_predicted_classes(classes, predictions_vals): \n",
    "    max_indexes = np.argmax(predictions_vals, axis=1)\n",
    "    pred_class = classes[max_indexes]\n",
    "    pred_class = np.expand_dims(pred_class, axis=0)\n",
    "    return pred_class\n"
   ]
  },
  {
   "cell_type": "code",
   "execution_count": 5,
   "metadata": {},
   "outputs": [],
   "source": [
    "def get_subm_result(files_names_arr, classes_pred):\n",
    "    conc = np.concatenate((files_names_arr, classes_pred), axis=0)\n",
    "    conc = conc.astype('str')\n",
    "    return np.apply_along_axis(lambda d: d[0] + ',' + d[1], 0, conc)"
   ]
  },
  {
   "cell_type": "code",
   "execution_count": 6,
   "metadata": {},
   "outputs": [],
   "source": [
    "preds = np.load('seedl_subms/InceptionV3_preds_kfold10ep25_cat_cross_ent_0.98236.npy')\n",
    "preds2 = np.load('seedl_subms/ResNet50_preds_kfold10ep25_cat_cross_ent_0.97481.npy')\n",
    "\n",
    "predsx = (preds + preds2) / 2\n",
    "\n",
    "filez, classes = get_test_set_files_paths_arr_classes()\n",
    "\n",
    "predicted_classes = get_predicted_classes(classes, predsx)\n",
    "\n",
    "res = get_subm_result(filez, predicted_classes)\n",
    "\n",
    "\n",
    "res.tofile(\"seedl_subms/preds_avg.csv\", sep='\\n')\n",
    "\n",
    "\n"
   ]
  },
  {
   "cell_type": "code",
   "execution_count": null,
   "metadata": {},
   "outputs": [],
   "source": []
  }
 ],
 "metadata": {
  "kernelspec": {
   "display_name": "Python 2",
   "language": "python",
   "name": "python2"
  },
  "language_info": {
   "codemirror_mode": {
    "name": "ipython",
    "version": 2
   },
   "file_extension": ".py",
   "mimetype": "text/x-python",
   "name": "python",
   "nbconvert_exporter": "python",
   "pygments_lexer": "ipython2",
   "version": "2.7.6"
  }
 },
 "nbformat": 4,
 "nbformat_minor": 0
}
